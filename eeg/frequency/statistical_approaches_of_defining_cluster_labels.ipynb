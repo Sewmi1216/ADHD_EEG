{
  "cells": [
    {
      "cell_type": "code",
      "execution_count": null,
      "metadata": {
        "colab": {
          "base_uri": "https://localhost:8080/"
        },
        "id": "DtiRPcuvktkg",
        "outputId": "5e53364b-6c10-455e-90d9-436a9db1d176"
      },
      "outputs": [
        {
          "name": "stdout",
          "output_type": "stream",
          "text": [
            "Mounted at /content/drive\n"
          ]
        }
      ],
      "source": [
        "from google.colab import drive\n",
        "drive.mount('/content/drive')"
      ]
    },
    {
      "cell_type": "code",
      "execution_count": null,
      "metadata": {
        "colab": {
          "base_uri": "https://localhost:8080/"
        },
        "id": "6J57Npdpk4B1",
        "outputId": "8e4b86fd-1247-4f06-affb-537b7a2133bc"
      },
      "outputs": [
        {
          "name": "stdout",
          "output_type": "stream",
          "text": [
            "ANOVA results: F=6955.708, p=0.0000\n",
            "Multiple Comparison of Means - Tukey HSD, FWER=0.05\n",
            "===================================================\n",
            "group1 group2 meandiff p-adj  lower   upper  reject\n",
            "---------------------------------------------------\n",
            "     0      1  -1.1532   0.0 -1.1949 -1.1115   True\n",
            "     0      2   1.2992   0.0  1.2541  1.3443   True\n",
            "     1      2   2.4523   0.0  2.4035  2.5011   True\n",
            "---------------------------------------------------\n",
            "\n",
            "Statistically significant cluster labels:\n",
            "Cluster 1: High Attention (mean TBR = -1.111)\n",
            "Cluster 0: Mid Attention (mean TBR = 0.043)\n",
            "Cluster 2: Low Attention (mean TBR = 1.342)\n"
          ]
        }
      ],
      "source": [
        "import numpy as np\n",
        "from scipy import stats\n",
        "from statsmodels.stats.multicomp import pairwise_tukeyhsd\n",
        "import joblib\n",
        "\n",
        "# Load data and model\n",
        "adhd_features_path = \"/content/drive/MyDrive/Dataset/model/normalized_adhd_features.npy\"\n",
        "normalized_adhd_features = np.load(adhd_features_path)\n",
        "\n",
        "model_path = \"/content/drive/MyDrive/Dataset/model/final/Kmeans_TBR_Model.pkl\"\n",
        "kmeans = joblib.load(model_path)\n",
        "\n",
        "# Get cluster assignments\n",
        "clusters = kmeans.predict(normalized_adhd_features)\n",
        "optimal_k = len(kmeans.cluster_centers_)  # Get number of clusters from model\n",
        "\n",
        "# Extract features for each cluster\n",
        "cluster_features = []\n",
        "for i in range(optimal_k):\n",
        "    cluster_features.append(normalized_adhd_features[clusters == i].flatten())\n",
        "\n",
        "# Perform ANOVA\n",
        "f_val, p_val = stats.f_oneway(*cluster_features)\n",
        "print(f\"ANOVA results: F={f_val:.3f}, p={p_val:.4f}\")\n",
        "\n",
        "# Tukey's HSD test\n",
        "tukey = pairwise_tukeyhsd(\n",
        "    endog=normalized_adhd_features.flatten(),  # Fixed variable name\n",
        "    groups=clusters,\n",
        "    alpha=0.05\n",
        ")\n",
        "print(tukey.summary())\n",
        "\n",
        "# Assign labels based on statistical significance\n",
        "if p_val < 0.05:\n",
        "    # Get mean values for each cluster\n",
        "    cluster_means = [np.mean(features) for features in cluster_features]\n",
        "\n",
        "    # Order clusters from low to high theta/low beta ratio\n",
        "    sorted_indices = np.argsort(cluster_means)\n",
        "\n",
        "    # Assign labels based on the ordering (inverse relationship between TBR and attention)\n",
        "    attention_labels = [\"High Attention\", \"Mid Attention\", \"Low Attention\"]\n",
        "    label_mapping = {sorted_indices[0]: attention_labels[0],\n",
        "                     sorted_indices[1]: attention_labels[1],\n",
        "                     sorted_indices[2]: attention_labels[2]}\n",
        "\n",
        "    print(\"\\nStatistically significant cluster labels:\")\n",
        "    for cluster, label in label_mapping.items():\n",
        "        print(f\"Cluster {cluster}: {label} (mean TBR = {cluster_means[cluster]:.3f})\")"
      ]
    },
    {
      "cell_type": "code",
      "execution_count": null,
      "metadata": {
        "colab": {
          "base_uri": "https://localhost:8080/"
        },
        "id": "CTXMVvOy04qk",
        "outputId": "2c5257fe-9f4a-4451-f9f2-00b972fee8b0"
      },
      "outputs": [
        {
          "name": "stdout",
          "output_type": "stream",
          "text": [
            "\n",
            "Degrees of freedom (within): 3369\n",
            "Effect size (η²): 0.8050\n"
          ]
        }
      ],
      "source": [
        "# 1. Get number of groups and total samples\n",
        "n_groups = optimal_k\n",
        "n_total = len(normalized_adhd_features)\n",
        "\n",
        "# 2. Overall grand mean\n",
        "grand_mean = np.mean(normalized_adhd_features)\n",
        "\n",
        "# 3. Calculate SS_between and SS_total\n",
        "ss_between = sum(\n",
        "    len(cluster) * (np.mean(cluster) - grand_mean) ** 2\n",
        "    for cluster in cluster_features\n",
        ")\n",
        "ss_total = sum((x - grand_mean) ** 2 for x in normalized_adhd_features.flatten())\n",
        "\n",
        "# 4. Effect size (eta squared)\n",
        "eta_squared = ss_between / ss_total\n",
        "\n",
        "# 5. Degrees of freedom\n",
        "df_between = n_groups - 1\n",
        "df_within = n_total - n_groups\n",
        "\n",
        "# 6. Print results\n",
        "print(f\"\\nDegrees of freedom (within): {df_within}\")\n",
        "print(f\"Effect size (η²): {eta_squared:.4f}\")\n"
      ]
    },
    {
      "cell_type": "code",
      "execution_count": null,
      "metadata": {
        "colab": {
          "base_uri": "https://localhost:8080/"
        },
        "id": "3VYhjadJ0g4S",
        "outputId": "3df9757c-e9a5-4776-bb9f-1ed44b4da701"
      },
      "outputs": [
        {
          "name": "stdout",
          "output_type": "stream",
          "text": [
            "\n",
            "Pairwise Cohen's d:\n",
            "Cluster 0 vs. Cluster 1: Cohen's d = 2.9739\n",
            "Cluster 0 vs. Cluster 2: Cohen's d = -2.9692\n",
            "Cluster 1 vs. Cluster 2: Cohen's d = -4.7842\n"
          ]
        }
      ],
      "source": [
        "from itertools import combinations\n",
        "\n",
        "def cohen_d(x, y):\n",
        "    \"\"\"Compute Cohen's d for two samples.\"\"\"\n",
        "    nx = len(x)\n",
        "    ny = len(y)\n",
        "    pooled_std = np.sqrt(((nx - 1) * np.var(x, ddof=1) + (ny - 1) * np.var(y, ddof=1)) / (nx + ny - 2))\n",
        "    return (np.mean(x) - np.mean(y)) / pooled_std\n",
        "\n",
        "# Pairwise Cohen's d calculations\n",
        "print(\"\\nPairwise Cohen's d:\")\n",
        "for i, j in combinations(range(optimal_k), 2):\n",
        "    d = cohen_d(cluster_features[i], cluster_features[j])\n",
        "    print(f\"Cluster {i} vs. Cluster {j}: Cohen's d = {d:.4f}\")"
      ]
    },
    {
      "cell_type": "code",
      "execution_count": null,
      "metadata": {
        "colab": {
          "base_uri": "https://localhost:8080/"
        },
        "id": "hdXb_a_dMgrG",
        "outputId": "6a05742a-cb0c-458b-8502-23995f4f0770"
      },
      "outputs": [
        {
          "name": "stdout",
          "output_type": "stream",
          "text": [
            "\n",
            "Exact Tukey HSD p-values:\n",
            "0 vs. 1: mean diff = -1.1532, p = 0, CI = [-1.1949, -1.1115]\n",
            "0 vs. 2: mean diff = 1.2992, p = 0, CI = [1.2541, 1.3443]\n",
            "1 vs. 2: mean diff = 2.4523, p = 0, CI = [2.4035, 2.5011]\n"
          ]
        }
      ],
      "source": [
        "print(\"\\nExact Tukey HSD p-values:\")\n",
        "for row in tukey._results_table.data[1:]:  # Skip header\n",
        "    group1, group2, meandiff, p_adj, lower, upper, reject = row\n",
        "    print(f\"{group1} vs. {group2}: mean diff = {meandiff:.4f}, p = {p_adj:.6g}, CI = [{lower:.4f}, {upper:.4f}]\")"
      ]
    },
    {
      "cell_type": "code",
      "execution_count": null,
      "metadata": {
        "colab": {
          "base_uri": "https://localhost:8080/"
        },
        "id": "h84efBCsMmQf",
        "outputId": "b7e8762d-05d6-4139-b88b-71c8bd581011"
      },
      "outputs": [
        {
          "name": "stdout",
          "output_type": "stream",
          "text": [
            "\n",
            "Cluster Means and Standard Deviations:\n",
            "Cluster 0: Mean = 0.0426, SD = 0.3390, n = 1542\n",
            "Cluster 1: Mean = -1.1106, SD = 0.4512, n = 1028\n",
            "Cluster 2: Mean = 1.3417, SD = 0.5820, n = 802\n"
          ]
        }
      ],
      "source": [
        "print(\"\\nCluster Means and Standard Deviations:\")\n",
        "for i, cluster in enumerate(cluster_features):\n",
        "    mean = np.mean(cluster)\n",
        "    std = np.std(cluster, ddof=1)  # Sample SD\n",
        "    print(f\"Cluster {i}: Mean = {mean:.4f}, SD = {std:.4f}, n = {len(cluster)}\")"
      ]
    }
  ],
  "metadata": {
    "colab": {
      "provenance": []
    },
    "kernelspec": {
      "display_name": "Python 3",
      "name": "python3"
    },
    "language_info": {
      "name": "python"
    }
  },
  "nbformat": 4,
  "nbformat_minor": 0
}
