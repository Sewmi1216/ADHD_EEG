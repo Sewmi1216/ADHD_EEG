{
  "nbformat": 4,
  "nbformat_minor": 0,
  "metadata": {
    "colab": {
      "provenance": []
    },
    "kernelspec": {
      "name": "python3",
      "display_name": "Python 3"
    },
    "language_info": {
      "name": "python"
    }
  },
  "cells": [
    {
      "cell_type": "code",
      "execution_count": 1,
      "metadata": {
        "colab": {
          "base_uri": "https://localhost:8080/"
        },
        "id": "0MydOUfwr9Mx",
        "outputId": "c887f0be-7a84-4631-da31-a0dfcbf776b6"
      },
      "outputs": [
        {
          "output_type": "stream",
          "name": "stdout",
          "text": [
            "Mounted at /content/drive\n"
          ]
        }
      ],
      "source": [
        "from google.colab import drive\n",
        "drive.mount('/content/drive')"
      ]
    },
    {
      "cell_type": "code",
      "source": [
        "import os\n",
        "\n",
        "# Path where testing data is stored\n",
        "test_data_path = \"/content/drive/MyDrive/Dataset/splitset/\"\n",
        "\n",
        "# Get participant IDs from existing training files\n",
        "test_participants = [\n",
        "    file.split(\"_\")[0] for file in os.listdir(test_data_path) if file.endswith(\"_test.mat\")\n",
        "]\n",
        "test_participants = sorted(set(map(int, test_participants)))  # Ensure unique and sorted IDs\n",
        "\n",
        "print(\"Loaded test participants:\", test_participants)"
      ],
      "metadata": {
        "colab": {
          "base_uri": "https://localhost:8080/"
        },
        "id": "fZAIHj8RsR0Q",
        "outputId": "ef7a28e6-692c-4bac-9015-87f68a63c936"
      },
      "execution_count": 2,
      "outputs": [
        {
          "output_type": "stream",
          "name": "stdout",
          "text": [
            "Loaded test participants: [4, 5, 7, 9, 13, 20, 25, 26, 27, 28, 34, 38, 40, 41, 44]\n"
          ]
        }
      ]
    },
    {
      "cell_type": "code",
      "source": [
        "# Group trials into 20-second segments for each test participant\n",
        "\n",
        "import numpy as np\n",
        "import scipy.io\n",
        "import os\n",
        "\n",
        "trial_duration = 1.5  # Duration of each trial in seconds\n",
        "segment_duration = 20  # Desired segment duration in seconds\n",
        "trials_per_segment = int(segment_duration / trial_duration)  # Number of trials per 20-second segment\n",
        "sampling_rate = 256\n",
        "\n",
        "# Specify the channels to use\n",
        "selected_channels = [3, 5, 8, 14, 17, 19, 24, 25, 36, 39, 40, 45, 47, 52, 53]\n",
        "selected_channels = [ch - 1 for ch in selected_channels]  # Convert to 0-based indexing\n",
        "\n",
        "# Loop through each test participant\n",
        "for participant in test_participants:\n",
        "    # Load the .mat file for the participant\n",
        "    test_file_path = f'/content/drive/MyDrive/Dataset/splitset/{int(participant)}_test.mat'\n",
        "    data = scipy.io.loadmat(test_file_path)\n",
        "\n",
        "    # Extract the EEG data (assuming the key is 'test_data' in the .mat file)\n",
        "    test_data = data['test_data']  # Shape: (timepoints, channels, trials)\n",
        "    num_timepoints, num_channels, num_trials = test_data.shape\n",
        "\n",
        "    # Create a directory to save the 20-second segments\n",
        "    save_dir = f\"/content/drive/MyDrive/Dataset/test_segments/participant_{participant}/\"\n",
        "    os.makedirs(save_dir, exist_ok=True)\n",
        "\n",
        "    # Group trials into 20-second segments\n",
        "    segment_idx = 1  # Initialize segment index\n",
        "    for start in range(0, num_trials - trials_per_segment + 1, trials_per_segment):\n",
        "        # Extract 20-second segment for selected channels\n",
        "        segment_data = test_data[:, selected_channels, start:start + trials_per_segment]  # Shape: (timepoints, selected_channels, trials_per_segment)\n",
        "        segment_signal = segment_data.reshape(-1, segment_data.shape[1])  # Flatten trials into a single time series\n",
        "        segment_signal = segment_signal[:20 * sampling_rate, :]  # Ensure the segment is exactly 20 seconds\n",
        "\n",
        "        # Save the 20-second segment\n",
        "        np.save(f\"{save_dir}/segment_{segment_idx}.npy\", segment_signal)\n",
        "        segment_idx += 1  # Increment segment index\n",
        "\n",
        "    print(f\"All 20-second segments saved for participant {participant} in {save_dir}\")"
      ],
      "metadata": {
        "colab": {
          "base_uri": "https://localhost:8080/"
        },
        "id": "sDjjTgIXnj0V",
        "outputId": "bc67e72d-b999-47e4-d6b5-fc8591cceee9"
      },
      "execution_count": 3,
      "outputs": [
        {
          "output_type": "stream",
          "name": "stdout",
          "text": [
            "All 20-second segments saved for participant 4 in /content/drive/MyDrive/Dataset/test_segments/participant_4/\n",
            "All 20-second segments saved for participant 5 in /content/drive/MyDrive/Dataset/test_segments/participant_5/\n",
            "All 20-second segments saved for participant 7 in /content/drive/MyDrive/Dataset/test_segments/participant_7/\n",
            "All 20-second segments saved for participant 9 in /content/drive/MyDrive/Dataset/test_segments/participant_9/\n",
            "All 20-second segments saved for participant 13 in /content/drive/MyDrive/Dataset/test_segments/participant_13/\n",
            "All 20-second segments saved for participant 20 in /content/drive/MyDrive/Dataset/test_segments/participant_20/\n",
            "All 20-second segments saved for participant 25 in /content/drive/MyDrive/Dataset/test_segments/participant_25/\n",
            "All 20-second segments saved for participant 26 in /content/drive/MyDrive/Dataset/test_segments/participant_26/\n",
            "All 20-second segments saved for participant 27 in /content/drive/MyDrive/Dataset/test_segments/participant_27/\n",
            "All 20-second segments saved for participant 28 in /content/drive/MyDrive/Dataset/test_segments/participant_28/\n",
            "All 20-second segments saved for participant 34 in /content/drive/MyDrive/Dataset/test_segments/participant_34/\n",
            "All 20-second segments saved for participant 38 in /content/drive/MyDrive/Dataset/test_segments/participant_38/\n",
            "All 20-second segments saved for participant 40 in /content/drive/MyDrive/Dataset/test_segments/participant_40/\n",
            "All 20-second segments saved for participant 41 in /content/drive/MyDrive/Dataset/test_segments/participant_41/\n",
            "All 20-second segments saved for participant 44 in /content/drive/MyDrive/Dataset/test_segments/participant_44/\n"
          ]
        }
      ]
    },
    {
      "cell_type": "code",
      "source": [
        "import numpy as np\n",
        "import os\n",
        "\n",
        "# Loop through each test participant\n",
        "for participant in test_participants:\n",
        "    # Path where 20s segments are saved\n",
        "    segment_dir = f\"/content/drive/MyDrive/Dataset/test_segments/participant_{participant}/\"\n",
        "    segment_files = sorted([f for f in os.listdir(segment_dir) if f.endswith('.npy')])\n",
        "\n",
        "    # Create a directory to save 60s segments\n",
        "    save_dir = f\"/content/drive/MyDrive/Dataset/test_segments_60s/participant_{participant}/\"\n",
        "    os.makedirs(save_dir, exist_ok=True)\n",
        "\n",
        "    segment_idx = 1  # Initialize segment index\n",
        "\n",
        "    # Combine every 3 consecutive 20s segments\n",
        "    for i in range(0, len(segment_files) - 3 + 1, 3):\n",
        "        # Load 3 segments\n",
        "        seg1 = np.load(os.path.join(segment_dir, segment_files[i]))\n",
        "        seg2 = np.load(os.path.join(segment_dir, segment_files[i+1]))\n",
        "        seg3 = np.load(os.path.join(segment_dir, segment_files[i+2]))\n",
        "\n",
        "        # Concatenate to form 60s segment\n",
        "        segment_60s = np.concatenate([seg1, seg2, seg3], axis=0)  # Along time axis\n",
        "\n",
        "        # Save the 60s segment\n",
        "        np.save(f\"{save_dir}/segment_{segment_idx}.npy\", segment_60s)\n",
        "        segment_idx += 1  # Increment segment index\n",
        "\n",
        "    print(f\"All 60-second segments saved for participant {participant} in {save_dir}\")\n"
      ],
      "metadata": {
        "colab": {
          "base_uri": "https://localhost:8080/"
        },
        "id": "M429K7zkpGrW",
        "outputId": "303ea379-b131-4d09-89a1-fa6555ac3142"
      },
      "execution_count": 4,
      "outputs": [
        {
          "output_type": "stream",
          "name": "stdout",
          "text": [
            "All 60-second segments saved for participant 4 in /content/drive/MyDrive/Dataset/test_segments_60s/participant_4/\n",
            "All 60-second segments saved for participant 5 in /content/drive/MyDrive/Dataset/test_segments_60s/participant_5/\n",
            "All 60-second segments saved for participant 7 in /content/drive/MyDrive/Dataset/test_segments_60s/participant_7/\n",
            "All 60-second segments saved for participant 9 in /content/drive/MyDrive/Dataset/test_segments_60s/participant_9/\n",
            "All 60-second segments saved for participant 13 in /content/drive/MyDrive/Dataset/test_segments_60s/participant_13/\n",
            "All 60-second segments saved for participant 20 in /content/drive/MyDrive/Dataset/test_segments_60s/participant_20/\n",
            "All 60-second segments saved for participant 25 in /content/drive/MyDrive/Dataset/test_segments_60s/participant_25/\n",
            "All 60-second segments saved for participant 26 in /content/drive/MyDrive/Dataset/test_segments_60s/participant_26/\n",
            "All 60-second segments saved for participant 27 in /content/drive/MyDrive/Dataset/test_segments_60s/participant_27/\n",
            "All 60-second segments saved for participant 28 in /content/drive/MyDrive/Dataset/test_segments_60s/participant_28/\n",
            "All 60-second segments saved for participant 34 in /content/drive/MyDrive/Dataset/test_segments_60s/participant_34/\n",
            "All 60-second segments saved for participant 38 in /content/drive/MyDrive/Dataset/test_segments_60s/participant_38/\n",
            "All 60-second segments saved for participant 40 in /content/drive/MyDrive/Dataset/test_segments_60s/participant_40/\n",
            "All 60-second segments saved for participant 41 in /content/drive/MyDrive/Dataset/test_segments_60s/participant_41/\n",
            "All 60-second segments saved for participant 44 in /content/drive/MyDrive/Dataset/test_segments_60s/participant_44/\n"
          ]
        }
      ]
    }
  ]
}